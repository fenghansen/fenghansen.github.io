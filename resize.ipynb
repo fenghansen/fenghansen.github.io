{
 "cells": [
  {
   "cell_type": "code",
   "execution_count": 6,
   "metadata": {},
   "outputs": [
    {
     "data": {
      "text/plain": [
       "True"
      ]
     },
     "execution_count": 6,
     "metadata": {},
     "output_type": "execute_result"
    }
   ],
   "source": [
    "import cv2\n",
    "import matplotlib\n",
    "import numpy\n",
    "\n",
    "def resize(path, width=720, scale=None):\n",
    "    img = cv2.imread(path)\n",
    "    h, w, c = img.shape\n",
    "    if scale is None:\n",
    "        scale = w / width\n",
    "        sh, sw = int(h/scale), width\n",
    "    img = cv2.resize(img, (sw, sh), interpolation=cv2.INTER_CUBIC)\n",
    "    return img\n",
    "\n",
    "name = 'fenghansen.jpg'\n",
    "img = resize(f'images/{name}', width=300)\n",
    "cv2.imwrite(name, img)"
   ]
  }
 ],
 "metadata": {
  "kernelspec": {
   "display_name": "Python 3.9.7 ('pytorch')",
   "language": "python",
   "name": "python3"
  },
  "language_info": {
   "codemirror_mode": {
    "name": "ipython",
    "version": 3
   },
   "file_extension": ".py",
   "mimetype": "text/x-python",
   "name": "python",
   "nbconvert_exporter": "python",
   "pygments_lexer": "ipython3",
   "version": "3.9.7"
  },
  "orig_nbformat": 4,
  "vscode": {
   "interpreter": {
    "hash": "3148284115222a81db57ff61adcb71a4eeaf436b429013f7716d66285ac2887d"
   }
  }
 },
 "nbformat": 4,
 "nbformat_minor": 2
}
